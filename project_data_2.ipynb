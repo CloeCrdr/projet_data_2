{
 "cells": [
  {
   "cell_type": "code",
   "execution_count": 1,
   "metadata": {},
   "outputs": [
    {
     "name": "stdout",
     "output_type": "stream",
     "text": [
      "<class 'pandas.core.frame.DataFrame'>\n",
      "RangeIndex: 13320 entries, 0 to 13319\n",
      "Data columns (total 9 columns):\n",
      " #   Column        Non-Null Count  Dtype         \n",
      "---  ------        --------------  -----         \n",
      " 0   area_type     13320 non-null  object        \n",
      " 1   availability  13320 non-null  datetime64[ns]\n",
      " 2   location      13319 non-null  object        \n",
      " 3   size          13304 non-null  float64       \n",
      " 4   society       7818 non-null   object        \n",
      " 5   total_sqft    13274 non-null  float64       \n",
      " 6   bath          13247 non-null  float64       \n",
      " 7   balcony       12711 non-null  float64       \n",
      " 8   price         13320 non-null  float64       \n",
      "dtypes: datetime64[ns](1), float64(5), object(3)\n",
      "memory usage: 936.7+ KB\n"
     ]
    }
   ],
   "source": [
    "import pandas as pd\n",
    "from datetime import datetime\n",
    "import numpy as np\n",
    "import re\n",
    "\n",
    "datas = pd.read_csv('./data/dataset.csv')\n",
    "\n",
    "datas.head()\n",
    "\n",
    "def convert_to_datetime(val):\n",
    "    if val in ['Immediate Possession', 'Ready To Move']:\n",
    "        return  datetime(2023, 1, 1)\n",
    "    else:\n",
    "        date_time_obj = datetime.strptime(val, '%d-%b')\n",
    "        date_time_obj = date_time_obj.replace(year = 2023)\n",
    "        return date_time_obj\n",
    "    \n",
    "def convert_size(val):\n",
    "    sub_bhk = \"BHK\"\n",
    "    sub_bedroom = \"Bedroom\"\n",
    "    \n",
    "    if sub_bhk in val:\n",
    "        new_val = val.replace(sub_bhk,'')\n",
    "    elif sub_bedroom in val:\n",
    "        new_val = val.replace(sub_bedroom,'')\n",
    "    else:\n",
    "        new_val = \"0\"\n",
    "    \n",
    "    return new_val\n",
    "\n",
    "def convert_size(string):\n",
    "    temp = str(string).split(' ')\n",
    "    if len(temp) > 1:\n",
    "        if temp[1] == 'Bedroom':\n",
    "            return int(temp[0])+1\n",
    "        elif temp[1] == 'RK':\n",
    "            return int(temp[0])\n",
    "        elif temp[1] == 'BHK':\n",
    "            return int(temp[0])+1\n",
    "    else:\n",
    "        return None\n",
    "\n",
    "def total_sqft_parse(string):\n",
    "    if ' - ' in string:\n",
    "        temp = string.split(' ')\n",
    "        return (float(temp[0]) + float(temp[2]) )/2\n",
    "    elif re.match('^[\\.0-9]*$',string):\n",
    "        return float(string)\n",
    "    else:\n",
    "        return np.nan\n",
    "    \n",
    "\n",
    "# date_time_obj = datetime.strptime(date_time_str, '%d-%b')\n",
    "# date_time_obj = date_time_obj.replace(year = 2023)\n",
    "\n",
    "datas['availability'] = datas['availability'].apply(convert_to_datetime)\n",
    "datas['size'] = [convert_size(x) for x in datas['size']]\n",
    "datas['total_sqft'] = [total_sqft_parse(x) for x in datas['total_sqft']]\n",
    "\n",
    "datas.info()\n",
    "\n",
    "\n"
   ]
  }
 ],
 "metadata": {
  "kernelspec": {
   "display_name": "Python 3",
   "language": "python",
   "name": "python3"
  },
  "language_info": {
   "codemirror_mode": {
    "name": "ipython",
    "version": 3
   },
   "file_extension": ".py",
   "mimetype": "text/x-python",
   "name": "python",
   "nbconvert_exporter": "python",
   "pygments_lexer": "ipython3",
   "version": "3.9.6"
  },
  "orig_nbformat": 4
 },
 "nbformat": 4,
 "nbformat_minor": 2
}
